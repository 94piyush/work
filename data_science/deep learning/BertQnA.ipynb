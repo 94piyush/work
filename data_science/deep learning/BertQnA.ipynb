{
 "cells": [
  {
   "cell_type": "code",
   "execution_count": 2,
   "id": "2a9582e0",
   "metadata": {},
   "outputs": [
    {
     "name": "stdout",
     "output_type": "stream",
     "text": [
      "2.7.0\n"
     ]
    }
   ],
   "source": [
    "import tensorflow as tf\n",
    "print(tf.__version__)"
   ]
  },
  {
   "cell_type": "code",
   "execution_count": 3,
   "id": "0501e606",
   "metadata": {},
   "outputs": [
    {
     "data": {
      "application/vnd.jupyter.widget-view+json": {
       "model_id": "ffb38cecfc754e119e1c9bf56d38bbdc",
       "version_major": 2,
       "version_minor": 0
      },
      "text/plain": [
       "Downloading:   0%|          | 0.00/226k [00:00<?, ?B/s]"
      ]
     },
     "metadata": {},
     "output_type": "display_data"
    },
    {
     "data": {
      "application/vnd.jupyter.widget-view+json": {
       "model_id": "32eaacfd846f469081967b698324254a",
       "version_major": 2,
       "version_minor": 0
      },
      "text/plain": [
       "Downloading:   0%|          | 0.00/28.0 [00:00<?, ?B/s]"
      ]
     },
     "metadata": {},
     "output_type": "display_data"
    },
    {
     "data": {
      "application/vnd.jupyter.widget-view+json": {
       "model_id": "42d53daab78d420484860dc382643e0e",
       "version_major": 2,
       "version_minor": 0
      },
      "text/plain": [
       "Downloading:   0%|          | 0.00/443 [00:00<?, ?B/s]"
      ]
     },
     "metadata": {},
     "output_type": "display_data"
    },
    {
     "data": {
      "application/vnd.jupyter.widget-view+json": {
       "model_id": "046a05a4d7e8400c860cb83a1c14421c",
       "version_major": 2,
       "version_minor": 0
      },
      "text/plain": [
       "Downloading:   0%|          | 0.00/1.25G [00:00<?, ?B/s]"
      ]
     },
     "metadata": {},
     "output_type": "display_data"
    },
    {
     "name": "stderr",
     "output_type": "stream",
     "text": [
      "2022-02-06 14:23:51.099530: I tensorflow/core/common_runtime/pluggable_device/pluggable_device_factory.cc:305] Could not identify NUMA node of platform GPU ID 0, defaulting to 0. Your kernel may not have been built with NUMA support.\n",
      "2022-02-06 14:23:51.100522: I tensorflow/core/common_runtime/pluggable_device/pluggable_device_factory.cc:271] Created TensorFlow device (/job:localhost/replica:0/task:0/device:GPU:0 with 0 MB memory) -> physical PluggableDevice (device: 0, name: METAL, pci bus id: <undefined>)\n"
     ]
    },
    {
     "name": "stdout",
     "output_type": "stream",
     "text": [
      "Metal device set to: Apple M1\n"
     ]
    },
    {
     "name": "stderr",
     "output_type": "stream",
     "text": [
      "All model checkpoint layers were used when initializing TFBertForQuestionAnswering.\n",
      "\n",
      "All the layers of TFBertForQuestionAnswering were initialized from the model checkpoint at bert-large-uncased-whole-word-masking-finetuned-squad.\n",
      "If your task is similar to the task the model of the checkpoint was trained on, you can already use TFBertForQuestionAnswering for predictions without further training.\n"
     ]
    },
    {
     "name": "stdout",
     "output_type": "stream",
     "text": [
      "<transformers.models.bert.modeling_tf_bert.TFBertForQuestionAnswering object at 0x1699f7190>\n"
     ]
    }
   ],
   "source": [
    "# Using HuggingFace's QuestionAnsweringModel (inbuilt)\n",
    "\n",
    "import tensorflow as tf\n",
    "\n",
    "# Refer: https://huggingface.co/transformers/model_doc/bert.html\n",
    "\n",
    "from transformers import BertTokenizer, TFBertForQuestionAnswering \n",
    "\n",
    "modelName = 'bert-large-uncased-whole-word-masking-finetuned-squad' # https://huggingface.co/transformers/pretrained_models.html\n",
    " \n",
    "tokenizer = BertTokenizer.from_pretrained(modelName)\n",
    "model = TFBertForQuestionAnswering.from_pretrained(modelName)\n",
    "\n",
    "print(model)"
   ]
  },
  {
   "cell_type": "code",
   "execution_count": 4,
   "id": "d9bd6407",
   "metadata": {},
   "outputs": [
    {
     "name": "stdout",
     "output_type": "stream",
     "text": [
      "250\n",
      "[CLS] what percentage does the amazon represents in rainforests on the planet? [SEP] the amazon rainforest ( portuguese : floresta amazonica or amazonia ; spanish : selva amazonica, amazonia or usually amazonia ; french : foret amazonienne ; dutch : amazoneregenwoud ), also known in english as amazonia or the amazon jungle, is a moist broadleaf forest that covers most of the amazon basin of south america. this basin encompasses 7, 000, 000 square kilometres ( 2, 700, 000 sq mi ), of which 5, 500, 000 square kilometres ( 2, 100, 000 sq mi ) are covered by the rainforest. this region includes territory belonging to nine nations. the majority of the forest is contained within brazil, with 60 % of the rainforest, followed by peru with 13 %, colombia with 10 %, and with minor amounts in venezuela, ecuador, bolivia, guyana, suriname and french guiana. states or departments in four nations contain \" amazonas \" in their names. the amazon represents over half of the planet's remaining rainforests, and comprises the largest and most biodiverse tract of tropical rainforest in the world, with an estimated 390 billion individual trees divided into 16, 000 species. [SEP]\n"
     ]
    }
   ],
   "source": [
    "# Text+Q&A from SQuAD Test data: https://rajpurkar.github.io/SQuAD-explorer/explore/v2.0/dev/Amazon_rainforest.html?model=nlnet%20(single%20model)%20(Microsoft%20Research%20Asia)&version=v2.0\n",
    "text = r\"\"\"The Amazon rainforest (Portuguese: Floresta Amazônica or Amazônia; Spanish: Selva Amazónica, Amazonía or usually Amazonia; French: Forêt amazonienne; Dutch: Amazoneregenwoud), also known in English as Amazonia or the Amazon Jungle, is a moist broadleaf forest that covers most of the Amazon basin of South America. This basin encompasses 7,000,000 square kilometres (2,700,000 sq mi), of which 5,500,000 square kilometres (2,100,000 sq mi) are covered by the rainforest. This region includes territory belonging to nine nations. The majority of the forest is contained within Brazil, with 60% of the rainforest, followed by Peru with 13%, Colombia with 10%, and with minor amounts in Venezuela, Ecuador, Bolivia, Guyana, Suriname and French Guiana. States or departments in four nations contain \"Amazonas\" in their names. The Amazon represents over half of the planet's remaining rainforests, and comprises the largest and most biodiverse tract of tropical rainforest in the world, with an estimated 390 billion individual trees divided into 16,000 species.\"\"\"\n",
    "question =r\"\"\"What percentage does the Amazon represents in rainforests on the planet?\"\"\"\n",
    "\n",
    "#question = r\"\"\"How many nations contain \"Amazonas\" in their names?\"\"\"\n",
    "\n",
    "\n",
    "#input_text = \"[CLS] \" + question + \" [SEP] \" + text + \" [SEP]\"\n",
    "input_text =  question + \" [SEP] \" + text \n",
    "input_ids = tokenizer.encode(input_text)\n",
    "\n",
    "print(len(input_ids))\n",
    "print(tokenizer.decode(input_ids))\n",
    "\n",
    "input = tf.constant(input_ids)[None, :]  # Batch size 1 \n"
   ]
  },
  {
   "cell_type": "code",
   "execution_count": 5,
   "id": "611fb04a",
   "metadata": {},
   "outputs": [
    {
     "name": "stdout",
     "output_type": "stream",
     "text": [
      "[0, 0, 0, 0, 0, 0, 0, 0, 0, 0, 0, 0, 0, 0, 0, 1, 1, 1, 1, 1, 1, 1, 1, 1, 1, 1, 1, 1, 1, 1, 1, 1, 1, 1, 1, 1, 1, 1, 1, 1, 1, 1, 1, 1, 1, 1, 1, 1, 1, 1, 1, 1, 1, 1, 1, 1, 1, 1, 1, 1, 1, 1, 1, 1, 1, 1, 1, 1, 1, 1, 1, 1, 1, 1, 1, 1, 1, 1, 1, 1, 1, 1, 1, 1, 1, 1, 1, 1, 1, 1, 1, 1, 1, 1, 1, 1, 1, 1, 1, 1, 1, 1, 1, 1, 1, 1, 1, 1, 1, 1, 1, 1, 1, 1, 1, 1, 1, 1, 1, 1, 1, 1, 1, 1, 1, 1, 1, 1, 1, 1, 1, 1, 1, 1, 1, 1, 1, 1, 1, 1, 1, 1, 1, 1, 1, 1, 1, 1, 1, 1, 1, 1, 1, 1, 1, 1, 1, 1, 1, 1, 1, 1, 1, 1, 1, 1, 1, 1, 1, 1, 1, 1, 1, 1, 1, 1, 1, 1, 1, 1, 1, 1, 1, 1, 1, 1, 1, 1, 1, 1, 1, 1, 1, 1, 1, 1, 1, 1, 1, 1, 1, 1, 1, 1, 1, 1, 1, 1, 1, 1, 1, 1, 1, 1, 1, 1, 1, 1, 1, 1, 1, 1, 1, 1, 1, 1, 1, 1, 1, 1, 1, 1, 1, 1, 1, 1, 1, 1, 1, 1, 1, 1, 1, 1, 1, 1, 1, 1, 1, 1]\n"
     ]
    }
   ],
   "source": [
    "# Source: Modified PyTorch code from https://www.kaggle.com/c/tensorflow2-question-answering/discussion/123434\n",
    "\n",
    "#[SEP] =  102 (token_id)\n",
    "# token_type_ids has 0 corresponding to the qeustion part of the input_text and 1 corresponding to the \n",
    "# text/part \n",
    "\n",
    "# here we don't want output corresponding to question that' why we keep value as 0 till index of [SEP] token. \n",
    "#We want outputs corresponding to para hence we keep value as 1 after [SEP] token\n",
    "token_type_ids = [0 if i <= input_ids.index(102) else 1 for i in range(len(input_ids))]\n",
    "\n",
    "print(token_type_ids)"
   ]
  },
  {
   "cell_type": "code",
   "execution_count": 12,
   "id": "9a6142e6",
   "metadata": {},
   "outputs": [
    {
     "name": "stdout",
     "output_type": "stream",
     "text": [
      "<class 'transformers.modeling_tf_outputs.TFQuestionAnsweringModelOutput'>\n",
      "2\n",
      "(1, 250)\n",
      "(1, 250)\n",
      "<class 'tensorflow.python.framework.ops.EagerTensor'>\n"
     ]
    }
   ],
   "source": [
    "answer=model(input, token_type_ids = tf.convert_to_tensor([token_type_ids]))\n",
    "\n",
    "print(type(answer))\n",
    "print(len(answer))\n",
    "\n",
    "# https://huggingface.co/transformers/model_doc/distilbert.html#tfdistilbertforquestionanswering\n",
    "\n",
    "startScores, endScores = answer.to_tuple()\n",
    "print(startScores.shape)\n",
    "print(endScores.shape)\n",
    "print(type(startScores))\n"
   ]
  },
  {
   "cell_type": "code",
   "execution_count": 13,
   "id": "280dfebb",
   "metadata": {},
   "outputs": [
    {
     "name": "stdout",
     "output_type": "stream",
     "text": [
      "['[CLS]', 'what', 'percentage', 'does', 'the', 'amazon', 'represents', 'in', 'rainforest', '##s', 'on', 'the', 'planet', '?', '[SEP]', 'the', 'amazon', 'rainforest', '(', 'portuguese', ':', 'flores', '##ta', 'amazon', '##ica', 'or', 'amazon', '##ia', ';', 'spanish', ':', 'se', '##lva', 'amazon', '##ica', ',', 'amazon', '##ia', 'or', 'usually', 'amazon', '##ia', ';', 'french', ':', 'fore', '##t', 'amazon', '##ien', '##ne', ';', 'dutch', ':', 'amazon', '##ere', '##gen', '##wo', '##ud', ')', ',', 'also', 'known', 'in', 'english', 'as', 'amazon', '##ia', 'or', 'the', 'amazon', 'jungle', ',', 'is', 'a', 'moist', 'broad', '##leaf', 'forest', 'that', 'covers', 'most', 'of', 'the', 'amazon', 'basin', 'of', 'south', 'america', '.', 'this', 'basin', 'encompasses', '7', ',', '000', ',', '000', 'square', 'kilometres', '(', '2', ',', '700', ',', '000', 'sq', 'mi', ')', ',', 'of', 'which', '5', ',', '500', ',', '000', 'square', 'kilometres', '(', '2', ',', '100', ',', '000', 'sq', 'mi', ')', 'are', 'covered', 'by', 'the', 'rainforest', '.', 'this', 'region', 'includes', 'territory', 'belonging', 'to', 'nine', 'nations', '.', 'the', 'majority', 'of', 'the', 'forest', 'is', 'contained', 'within', 'brazil', ',', 'with', '60', '%', 'of', 'the', 'rainforest', ',', 'followed', 'by', 'peru', 'with', '13', '%', ',', 'colombia', 'with', '10', '%', ',', 'and', 'with', 'minor', 'amounts', 'in', 'venezuela', ',', 'ecuador', ',', 'bolivia', ',', 'guyana', ',', 'suriname', 'and', 'french', 'guiana', '.', 'states', 'or', 'departments', 'in', 'four', 'nations', 'contain', '\"', 'amazon', '##as', '\"', 'in', 'their', 'names', '.', 'the', 'amazon', 'represents', 'over', 'half', 'of', 'the', 'planet', \"'\", 's', 'remaining', 'rainforest', '##s', ',', 'and', 'comprises', 'the', 'largest', 'and', 'most', 'bio', '##di', '##verse', 'tract', 'of', 'tropical', 'rainforest', 'in', 'the', 'world', ',', 'with', 'an', 'estimated', '390', 'billion', 'individual', 'trees', 'divided', 'into', '16', ',', '000', 'species', '.', '[SEP]']\n"
     ]
    }
   ],
   "source": [
    "input_tokens = tokenizer.convert_ids_to_tokens(input_ids)\n",
    "\n",
    "print(input_tokens)"
   ]
  },
  {
   "cell_type": "code",
   "execution_count": 14,
   "id": "f0e7e28e",
   "metadata": {},
   "outputs": [
    {
     "name": "stdout",
     "output_type": "stream",
     "text": [
      "tf.Tensor(\n",
      "[[-6.047486   -4.656021   -7.571983   -7.81299    -7.0066047  -7.89475\n",
      "  -8.126448   -7.5400686  -8.892704   -9.418995   -8.942823   -8.615164\n",
      "  -9.496939   -9.665028   -6.0474596  -6.15179    -3.5666277  -7.074653\n",
      "  -8.149385   -6.5617304  -8.559914   -7.1163764  -8.553457   -7.5595956\n",
      "  -8.405012   -8.682978   -6.790607   -8.405868   -8.498199   -6.235168\n",
      "  -8.774739   -7.628982   -8.575292   -7.887274   -8.5714855  -8.881729\n",
      "  -7.3598723  -8.744013   -8.553474   -6.743693   -7.268454   -8.534403\n",
      "  -8.565097   -6.486239   -8.576063   -6.986379   -8.542222   -7.4793887\n",
      "  -8.858678   -8.480017   -8.771891   -6.917669   -8.668295   -7.1957245\n",
      "  -8.835161   -8.785323   -8.765894   -8.421244   -7.567758   -7.9901147\n",
      "  -7.5482965  -7.8218055  -8.1223955  -7.2564707  -8.40498    -6.5453877\n",
      "  -8.211744   -8.5522     -7.2628655  -6.084313   -7.759269   -8.03882\n",
      "  -7.1379924  -7.301931   -7.178515   -7.6427255  -8.358979   -7.0667424\n",
      "  -8.150647   -7.197264   -6.813742   -8.397957   -7.6221976  -4.742474\n",
      "  -7.6633706  -8.42799    -6.018065   -7.388162   -7.974631   -6.6263795\n",
      "  -7.3457065  -7.489597   -6.1230397  -8.325472   -8.179809   -8.328946\n",
      "  -8.272492   -7.826527   -7.4758363  -7.906635   -6.5980496  -8.4171295\n",
      "  -7.8246675  -8.545807   -8.332104   -7.995011   -8.099605   -8.30859\n",
      "  -7.9492826  -7.469399   -7.982206   -6.0616846  -8.512728   -7.686951\n",
      "  -8.542604   -8.310251   -7.8002048  -7.457561   -7.875986   -6.8844543\n",
      "  -8.719748   -7.996832   -8.694691   -8.4989     -8.230697   -8.310431\n",
      "  -8.59306    -8.058226   -7.568445   -8.421453   -8.062491   -6.583303\n",
      "  -8.169731   -7.095347   -7.474628   -7.7378893  -6.861241   -7.9074187\n",
      "  -8.306467   -6.3024316  -7.3159547  -6.609838   -3.9708924  -3.3506775\n",
      "  -7.383869   -6.483371   -5.8961186  -7.047212   -5.9590774  -6.5425916\n",
      "  -2.3038707  -5.921868   -3.9551256  -0.3697959  -3.876274   -7.3552966\n",
      "  -6.986509   -5.6333423  -7.4624305  -5.1697645  -7.3215175  -2.8041298\n",
      "  -5.9987626  -1.5594574  -4.858472   -8.184525   -3.586381   -6.4131303\n",
      "  -2.2215798  -5.0068183  -7.9886165  -7.8991466  -6.816692   -6.5969734\n",
      "  -7.5388546  -8.162254   -6.0238457  -8.953106   -6.748375   -9.067342\n",
      "  -7.4168744  -9.154785   -7.704513   -9.213533   -8.016993   -9.005893\n",
      "  -7.1149144  -7.6283574  -6.1917977  -5.3011975  -8.230419   -6.0576653\n",
      "  -8.007127   -4.606748   -6.965508   -6.9792094  -6.837876   -5.1202083\n",
      "  -8.260263   -8.454398   -8.516377   -7.8732705  -7.0550237  -6.0473857\n",
      "   2.893387    0.09155688 -0.60805756  7.131441    5.4751463  -3.7968042\n",
      "  -3.399662   -3.788367   -7.69688    -5.8966937  -4.3606596  -4.596586\n",
      "  -4.3556366  -5.8030124  -5.7178426  -3.2349365  -4.5819025  -4.068911\n",
      "  -7.636549   -5.472278   -5.8533373  -7.89892    -6.781871   -5.6461177\n",
      "  -7.915781   -5.663487   -4.7542157  -7.6325474  -7.2381134  -5.038262\n",
      "  -7.297064   -5.82238    -5.712393   -4.223894   -3.8604538  -6.270927\n",
      "  -6.5917215  -5.8533063  -7.1846385  -8.302198   -5.853951   -8.543186\n",
      "  -7.788771   -6.5472336  -7.8270383  -6.0474973 ]], shape=(1, 250), dtype=float32)\n"
     ]
    }
   ],
   "source": [
    "print(startScores)"
   ]
  },
  {
   "cell_type": "code",
   "execution_count": 15,
   "id": "bf76ff93",
   "metadata": {},
   "outputs": [
    {
     "name": "stdout",
     "output_type": "stream",
     "text": [
      "tf.Tensor(207, shape=(), dtype=int64)\n"
     ]
    }
   ],
   "source": [
    "print(tf.math.argmax(startScores[0],0))"
   ]
  },
  {
   "cell_type": "code",
   "execution_count": 16,
   "id": "e1715860",
   "metadata": {},
   "outputs": [
    {
     "name": "stdout",
     "output_type": "stream",
     "text": [
      "207\n"
     ]
    }
   ],
   "source": [
    "print((tf.math.argmax(startScores[0],0)).numpy())"
   ]
  },
  {
   "cell_type": "code",
   "execution_count": 17,
   "id": "c02bd95a",
   "metadata": {},
   "outputs": [
    {
     "name": "stdout",
     "output_type": "stream",
     "text": [
      "207 209\n"
     ]
    }
   ],
   "source": [
    "startIdx = tf.math.argmax(startScores[0],0).numpy()\n",
    "endIdx = tf.math.argmax(endScores[0],0).numpy()+1\n",
    "print(startIdx,endIdx)"
   ]
  },
  {
   "cell_type": "code",
   "execution_count": 18,
   "id": "6d9c6796",
   "metadata": {},
   "outputs": [
    {
     "name": "stdout",
     "output_type": "stream",
     "text": [
      "over half\n"
     ]
    }
   ],
   "source": [
    "print(\" \".join(input_tokens[startIdx:endIdx]))"
   ]
  },
  {
   "cell_type": "code",
   "execution_count": null,
   "id": "bda91695",
   "metadata": {},
   "outputs": [],
   "source": []
  }
 ],
 "metadata": {
  "kernelspec": {
   "display_name": "Python 3 (ipykernel)",
   "language": "python",
   "name": "python3"
  },
  "language_info": {
   "codemirror_mode": {
    "name": "ipython",
    "version": 3
   },
   "file_extension": ".py",
   "mimetype": "text/x-python",
   "name": "python",
   "nbconvert_exporter": "python",
   "pygments_lexer": "ipython3",
   "version": "3.9.7"
  }
 },
 "nbformat": 4,
 "nbformat_minor": 5
}
